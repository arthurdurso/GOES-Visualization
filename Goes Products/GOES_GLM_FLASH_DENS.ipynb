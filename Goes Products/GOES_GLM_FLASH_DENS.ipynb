{
 "cells": [
  {
   "cell_type": "code",
   "execution_count": 117,
   "metadata": {},
   "outputs": [],
   "source": [
    "import GOES"
   ]
  },
  {
   "cell_type": "code",
   "execution_count": 118,
   "metadata": {},
   "outputs": [],
   "source": [
    "# Infos da Regiao\n",
    "\n",
    "flist=GOES.locate_files('C:\\\\Users\\\\Durso\\\\Documentos\\\\_Iniciacao Cientifica\\\\NC Files\\\\Lightining Detection\\\\', 'OR_GLM*.nc',\n",
    "                        '20220215-000000', '20220216-000000')"
   ]
  },
  {
   "cell_type": "code",
   "execution_count": 119,
   "metadata": {},
   "outputs": [
    {
     "data": {
      "text/plain": [
       "<class 'GOES.processing.processing_data.open_mfdataset'>\n",
       "\n",
       "number files: 15\n",
       "C:\\Users\\Durso\\Documentos\\_Iniciacao Cientifica\\NC Files\\Lightining Detection\\OR_GLM-L2-LCFA_G16_s20220461600000_e20220461600200_c20220461600216.nc\n",
       "C:\\Users\\Durso\\Documentos\\_Iniciacao Cientifica\\NC Files\\Lightining Detection\\OR_GLM-L2-LCFA_G16_s20220461600200_e20220461600400_c20220461600417.nc\n",
       "C:\\Users\\Durso\\Documentos\\_Iniciacao Cientifica\\NC Files\\Lightining Detection\\OR_GLM-L2-LCFA_G16_s20220461600400_e20220461601000_c20220461601017.nc\n",
       "C:\\Users\\Durso\\Documentos\\_Iniciacao Cientifica\\NC Files\\Lightining Detection\\OR_GLM-L2-LCFA_G16_s20220461601000_e20220461601200_c20220461601219.nc\n",
       "C:\\Users\\Durso\\Documentos\\_Iniciacao Cientifica\\NC Files\\Lightining Detection\\OR_GLM-L2-LCFA_G16_s20220461601200_e20220461601400_c20220461601425.nc\n",
       "C:\\Users\\Durso\\Documentos\\_Iniciacao Cientifica\\NC Files\\Lightining Detection\\OR_GLM-L2-LCFA_G16_s20220461601400_e20220461602000_c20220461602026.nc\n",
       "C:\\Users\\Durso\\Documentos\\_Iniciacao Cientifica\\NC Files\\Lightining Detection\\OR_GLM-L2-LCFA_G16_s20220461602000_e20220461602200_c20220461602219.nc\n",
       "C:\\Users\\Durso\\Documentos\\_Iniciacao Cientifica\\NC Files\\Lightining Detection\\OR_GLM-L2-LCFA_G16_s20220461602200_e20220461602400_c20220461602427.nc\n",
       "C:\\Users\\Durso\\Documentos\\_Iniciacao Cientifica\\NC Files\\Lightining Detection\\OR_GLM-L2-LCFA_G16_s20220461602400_e20220461603000_c20220461603025.nc\n",
       "C:\\Users\\Durso\\Documentos\\_Iniciacao Cientifica\\NC Files\\Lightining Detection\\OR_GLM-L2-LCFA_G16_s20220461603000_e20220461603200_c20220461603220.nc\n",
       "C:\\Users\\Durso\\Documentos\\_Iniciacao Cientifica\\NC Files\\Lightining Detection\\OR_GLM-L2-LCFA_G16_s20220461603200_e20220461603400_c20220461603418.nc\n",
       "C:\\Users\\Durso\\Documentos\\_Iniciacao Cientifica\\NC Files\\Lightining Detection\\OR_GLM-L2-LCFA_G16_s20220461603400_e20220461604000_c20220461604018.nc\n",
       "C:\\Users\\Durso\\Documentos\\_Iniciacao Cientifica\\NC Files\\Lightining Detection\\OR_GLM-L2-LCFA_G16_s20220461604000_e20220461604200_c20220461604226.nc\n",
       "C:\\Users\\Durso\\Documentos\\_Iniciacao Cientifica\\NC Files\\Lightining Detection\\OR_GLM-L2-LCFA_G16_s20220461604200_e20220461604400_c20220461604414.nc\n",
       "C:\\Users\\Durso\\Documentos\\_Iniciacao Cientifica\\NC Files\\Lightining Detection\\OR_GLM-L2-LCFA_G16_s20220461604400_e20220461605000_c20220461605029.nc\n",
       "\n",
       "attribute:\n",
       "   production_site               \n",
       "   featureType                   \n",
       "   dataset_name                  \n",
       "   naming_authority              \n",
       "   Conventions                   \n",
       "   institution                   \n",
       "   project                       \n",
       "   iso_series_metadata_id        \n",
       "   Metadata_Conventions          \n",
       "   keywords_vocabulary           \n",
       "   standard_name_vocabulary      \n",
       "   title                         \n",
       "   summary                       \n",
       "   license                       \n",
       "   keywords                      \n",
       "   cdm_data_type                 \n",
       "   processing_level              \n",
       "   orbital_slot                  \n",
       "   platform_ID                   \n",
       "   instrument_ID                 \n",
       "   instrument_type               \n",
       "   spatial_resolution            \n",
       "   date_created                  \n",
       "   time_coverage_start           \n",
       "   time_coverage_end             \n",
       "   production_data_source        \n",
       "   production_environment        \n",
       "   LUT_Filenames                 \n",
       "   id                            \n",
       "\n",
       "dimension:\n",
       "   number_of_flashes                                 \n",
       "   number_of_groups                                  \n",
       "   number_of_events                                  \n",
       "   number_of_time_bounds                             \n",
       "   number_of_field_of_view_bounds                    \n",
       "   number_of_wavelength_bounds                       \n",
       "\n",
       "variable:\n",
       "   product_time                                       () float64\n",
       "   lightning_wavelength                               () float32\n",
       "   group_time_threshold                               () float32\n",
       "   flash_time_threshold                               () float32\n",
       "   lat_field_of_view                                  () float32\n",
       "   goes_lat_lon_projection                            () int32\n",
       "   event_count                                        () int32\n",
       "   group_count                                        () int32\n",
       "   flash_count                                        () int32\n",
       "   percent_navigated_L1b_events                       () float32\n",
       "   yaw_flip_flag                                      () int8\n",
       "   nominal_satellite_subpoint_lat                     () float32\n",
       "   nominal_satellite_height                           () float32\n",
       "   nominal_satellite_subpoint_lon                     () float32\n",
       "   lon_field_of_view                                  () float32\n",
       "   percent_uncorrectable_L0_errors                    () float32\n",
       "   algorithm_dynamic_input_data_container             () int32\n",
       "   processing_parm_version_container                  () int32\n",
       "   algorithm_product_version_container                () int32\n",
       "   event_id                                           (number_of_events) int32\n",
       "   event_time_offset                                  (number_of_events) int16\n",
       "   event_lat                                          (number_of_events) int16\n",
       "   event_lon                                          (number_of_events) int16\n",
       "   event_energy                                       (number_of_events) int16\n",
       "   event_parent_group_id                              (number_of_events) int32\n",
       "   group_id                                           (number_of_groups) int32\n",
       "   group_time_offset                                  (number_of_groups) int16\n",
       "   group_frame_time_offset                            (number_of_groups) int16\n",
       "   group_lat                                          (number_of_groups) float32\n",
       "   group_lon                                          (number_of_groups) float32\n",
       "   group_area                                         (number_of_groups) int16\n",
       "   group_energy                                       (number_of_groups) int16\n",
       "   group_parent_flash_id                              (number_of_groups) int16\n",
       "   group_quality_flag                                 (number_of_groups) int16\n",
       "   flash_id                                           (number_of_flashes) int16\n",
       "   flash_time_offset_of_first_event                   (number_of_flashes) int16\n",
       "   flash_time_offset_of_last_event                    (number_of_flashes) int16\n",
       "   flash_frame_time_offset_of_first_event             (number_of_flashes) int16\n",
       "   flash_frame_time_offset_of_last_event              (number_of_flashes) int16\n",
       "   flash_lat                                          (number_of_flashes) float32\n",
       "   flash_lon                                          (number_of_flashes) float32\n",
       "   flash_area                                         (number_of_flashes) int16\n",
       "   flash_energy                                       (number_of_flashes) int16\n",
       "   flash_quality_flag                                 (number_of_flashes) int16\n",
       "   product_time_bounds                                (number_of_time_bounds) float64\n",
       "   lightning_wavelength_bounds                        (number_of_wavelength_bounds) float32\n",
       "   lat_field_of_view_bounds                           (number_of_field_of_view_bounds) float32\n",
       "   lon_field_of_view_bounds                           (number_of_field_of_view_bounds) float32\n",
       "\n",
       "image:\n",
       "\n",
       "group:"
      ]
     },
     "execution_count": 119,
     "metadata": {},
     "output_type": "execute_result"
    }
   ],
   "source": [
    "ds = GOES.open_mfdataset(flist)\n",
    "\n",
    "ds"
   ]
  },
  {
   "cell_type": "code",
   "execution_count": 120,
   "metadata": {},
   "outputs": [],
   "source": [
    "#domain = [-44.64728755494618, -41.74140391311923, -23.380671724510133, -21.60441389915291]\n",
    "\n",
    "domain = [-86.0,-31.0,-40.0,15.0]"
   ]
  },
  {
   "cell_type": "code",
   "execution_count": 121,
   "metadata": {},
   "outputs": [],
   "source": [
    "flash_lon = ds.variable('flash_lon')\n",
    "flash_lat = ds.variable('flash_lat')"
   ]
  },
  {
   "cell_type": "code",
   "execution_count": 122,
   "metadata": {},
   "outputs": [],
   "source": [
    "time_bounds = ds.variable('product_time_bounds')\n",
    "time_start = time_bounds.data[0,0]\n",
    "time_end = time_bounds.data[-1,-1]"
   ]
  },
  {
   "cell_type": "code",
   "execution_count": 123,
   "metadata": {},
   "outputs": [],
   "source": [
    "pix_resol = 2.0\n",
    "gridmap_LonCor, gridmap_LatCor = GOES.create_gridmap(domain, PixResol=pix_resol)"
   ]
  },
  {
   "cell_type": "code",
   "execution_count": 124,
   "metadata": {},
   "outputs": [
    {
     "name": "stdout",
     "output_type": "stream",
     "text": [
      "    There are 1155 occurrences inside gridmap\n",
      "    processing   0%\r    processing   1%\r    processing   1%\r    processing   2%\r    processing   2%\r    processing   2%\r    processing   3%\r    processing   3%\r    processing   4%\r    processing   4%\r    processing   4%\r    processing   5%\r    processing   5%\r    processing   5%\r    processing   6%\r    processing   6%\r    processing   7%\r    processing   7%\r    processing   7%\r    processing   8%\r    processing   8%\r    processing   9%\r    processing   9%\r    processing   9%\r    processing  10%\r    processing  10%\r    processing  11%\r    processing  11%\r    processing  11%\r    processing  12%\r    processing  12%\r    processing  12%\r    processing  13%\r    processing  13%\r    processing  14%\r    processing  14%\r    processing  14%\r    processing  15%\r    processing  15%\r    processing  16%\r    processing  16%\r    processing  16%\r    processing  17%\r    processing  17%\r    processing  18%\r    processing  18%\r    processing  18%\r    processing  19%\r    processing  19%\r    processing  20%\r    processing  20%\r    processing  20%\r    processing  21%\r    processing  21%\r    processing  21%\r    processing  22%\r    processing  22%\r    processing  23%\r    processing  23%\r    processing  23%\r    processing  24%\r    processing  24%\r    processing  25%\r    processing  25%\r    processing  25%\r    processing  26%\r    processing  26%\r    processing  27%\r    processing  27%\r    processing  27%\r    processing  28%\r    processing  28%\r    processing  29%\r    processing  29%\r    processing  29%\r    processing  30%\r    processing  30%\r    processing  30%\r    processing  31%\r    processing  31%\r    processing  32%\r    processing  32%\r    processing  32%\r    processing  33%\r    processing  33%\r    processing  34%\r    processing  34%\r    processing  34%\r    processing  35%\r    processing  35%\r    processing  36%\r    processing  36%\r    processing  36%\r    processing  37%\r    processing  37%\r    processing  38%\r    processing  38%\r    processing  38%\r    processing  39%\r    processing  39%\r    processing  39%\r    processing  40%\r    processing  40%\r    processing  41%\r    processing  41%\r    processing  41%\r    processing  42%\r    processing  42%\r    processing  43%\r    processing  43%\r    processing  43%\r    processing  44%\r    processing  44%\r    processing  45%\r    processing  45%\r    processing  45%\r    processing  46%\r    processing  46%\r    processing  46%\r    processing  47%\r    processing  47%\r    processing  48%\r    processing  48%\r    processing  48%\r    processing  49%\r    processing  49%\r    processing  50%\r    processing  50%\r    processing  50%\r    processing  51%\r    processing  51%\r    processing  52%\r    processing  52%\r    processing  52%\r    processing  53%\r    processing  53%\r    processing  54%\r    processing  54%\r    processing  54%\r    processing  55%\r    processing  55%\r    processing  55%\r    processing  56%\r    processing  56%\r    processing  57%\r    processing  57%\r    processing  57%\r    processing  58%\r    processing  58%\r    processing  59%\r    processing  59%\r    processing  59%\r    processing  60%\r    processing  60%\r    processing  61%\r    processing  61%\r    processing  61%\r    processing  62%\r    processing  62%\r    processing  62%\r    processing  63%\r    processing  63%\r    processing  64%\r    processing  64%\r    processing  64%\r    processing  65%\r    processing  65%\r    processing  66%\r    processing  66%\r    processing  66%\r    processing  67%\r    processing  67%\r    processing  68%\r    processing  68%\r    processing  68%\r    processing  69%\r    processing  69%\r    processing  70%\r    processing  70%\r    processing  70%\r    processing  71%\r    processing  71%\r    processing  71%\r    processing  72%\r    processing  72%\r    processing  73%\r    processing  73%\r    processing  73%\r    processing  74%\r    processing  74%\r    processing  75%\r    processing  75%\r    processing  75%\r    processing  76%\r    processing  76%\r    processing  77%\r    processing  77%\r    processing  77%\r    processing  78%\r    processing  78%\r    processing  79%\r    processing  79%\r    processing  79%\r    processing  80%\r    processing  80%\r    processing  80%\r    processing  81%\r    processing  81%\r    processing  82%\r    processing  82%\r    processing  82%\r    processing  83%\r    processing  83%\r    processing  84%\r    processing  84%\r    processing  84%\r    processing  85%\r    processing  85%\r    processing  86%\r    processing  86%\r    processing  86%\r    processing  87%\r    processing  87%\r    processing  88%\r    processing  88%\r    processing  88%\r    processing  89%\r    processing  89%\r    processing  89%\r    processing  90%\r    processing  90%\r    processing  91%\r    processing  91%\r    processing  91%\r    processing  92%\r    processing  92%\r    processing  93%\r    processing  93%\r    processing  93%\r    processing  94%\r    processing  94%\r    processing  95%\r    processing  95%\r    processing  95%\r    processing  96%\r    processing  96%\r    processing  96%\r    processing  97%\r    processing  97%\r    processing  98%\r    processing  98%\r    processing  98%\r    processing  99%\r    processing  99%\r    processing 100%\r    processing 100%\r\b\n"
     ]
    }
   ],
   "source": [
    "dens = GOES.accumulate_in_gridmap(gridmap_LonCor, gridmap_LatCor, flash_lon, flash_lat)"
   ]
  },
  {
   "cell_type": "code",
   "execution_count": 125,
   "metadata": {},
   "outputs": [],
   "source": [
    "sat = ds.attribute('platform_ID')[0]"
   ]
  },
  {
   "cell_type": "code",
   "execution_count": 126,
   "metadata": {},
   "outputs": [],
   "source": [
    "name = 'Flash density'"
   ]
  },
  {
   "cell_type": "code",
   "execution_count": 127,
   "metadata": {},
   "outputs": [],
   "source": [
    "# import packages\n",
    "import custom_color_palette as ccp\n",
    "\n",
    "# set the colors of the custom palette\n",
    "pl1 = [['black'], [0,1]]\n",
    "pl2 = [['yellow','darkorange','red','firebrick'], [1,2,5,10,15,20,25,30,40,50,60]]\n",
    "\n",
    "# pass parameters to the creates_palette module\n",
    "cmap, cmticks, norm, bounds = ccp.creates_palette([pl1, pl2], extend='max', upper_color='maroon')\n",
    "\n",
    "# set ticks for colorbar\n",
    "ticks = cmticks"
   ]
  },
  {
   "cell_type": "code",
   "execution_count": 129,
   "metadata": {},
   "outputs": [
    {
     "data": {
      "image/png": "[encoded data removed]",
      "text/plain": [
       "<Figure size 800x800 with 2 Axes>"
      ]
     },
     "metadata": {
      "needs_background": "light"
     },
     "output_type": "display_data"
    }
   ],
   "source": [
    "# import packages\n",
    "import numpy as np\n",
    "import cartopy.crs as ccrs\n",
    "from cartopy.feature import NaturalEarthFeature\n",
    "from cartopy.mpl.ticker import LatitudeFormatter, LongitudeFormatter\n",
    "import matplotlib.pyplot as plt\n",
    "from matplotlib.dates import DateFormatter\n",
    "\n",
    "# calculates the central longitude of the plot\n",
    "lon_cen = 360.0+(domain[0]+domain[1])/2.0\n",
    "\n",
    "# creates the figure\n",
    "fig = plt.figure('map', figsize=(4,4), dpi=200)\n",
    "ax = fig.add_axes([0.1, 0.16, 0.80, 0.75], projection=ccrs.PlateCarree(lon_cen))\n",
    "ax.outline_patch.set_linewidth(0.3)\n",
    "\n",
    "# add the geographic boundaries\n",
    "l = NaturalEarthFeature(category='cultural', name='admin_0_countries', scale='50m', facecolor='none')\n",
    "ax.add_feature(l, edgecolor='white', linewidth=0.25)\n",
    "\n",
    "# plot the data\n",
    "img = ax.pcolormesh(gridmap_LonCor.data, gridmap_LatCor.data, dens.data, cmap=cmap, norm=norm,\n",
    "                    transform=ccrs.PlateCarree())\n",
    "\n",
    "# add the colorbar\n",
    "cb = plt.colorbar(img, ticks=ticks, extend='max', orientation='horizontal',\n",
    "                  cax=fig.add_axes([0.12, 0.05, 0.76, 0.02]))\n",
    "cb.ax.tick_params(labelsize=5, labelcolor='black', width=0.5, direction='out', pad=1.0)\n",
    "cb.set_label(label='{}'.format(name), size=5, color='black', weight='normal')\n",
    "cb.outline.set_linewidth(0.5)\n",
    "\n",
    "# set the title\n",
    "ax.set_title('{} - {} [{}x{}km]'.format(sat, name, pix_resol, pix_resol), fontsize=5, loc='left')\n",
    "ax.set_title('{:%Y/%m/%d %H:%M UTC} - {:%Y/%m/%d %H:%M UTC}'.format(time_start, time_end),\n",
    "             fontsize=5, loc='right')\n",
    "\n",
    "# Sets X axis characteristics\n",
    "dx = 10\n",
    "xticks = np.arange(domain[0], domain[1]+dx, dx)\n",
    "ax.set_xticks(xticks, crs=ccrs.PlateCarree())\n",
    "ax.xaxis.set_major_formatter(LongitudeFormatter(dateline_direction_label=True))\n",
    "ax.set_xlabel('Longitude', color='black', fontsize=7, labelpad=3.0)\n",
    "\n",
    "# Sets Y axis characteristics\n",
    "dy = 10\n",
    "yticks = np.arange(domain[2], domain[3]+dy, dy)\n",
    "ax.set_yticks(yticks, crs=ccrs.PlateCarree())\n",
    "ax.yaxis.set_major_formatter(LatitudeFormatter())\n",
    "ax.set_ylabel('Latitude', color='black', fontsize=7, labelpad=3.0)\n",
    "\n",
    "# Sets tick characteristics\n",
    "ax.tick_params(left=True, right=True, bottom=True, top=True,\n",
    "               labelleft=True, labelright=False, labelbottom=True, labeltop=False,\n",
    "               length=0.0, width=0.05, labelsize=5.0, labelcolor='black')\n",
    "\n",
    "# Sets grid characteristics\n",
    "ax.gridlines(xlocs=xticks, ylocs=yticks, alpha=0.6, color='gray',\n",
    "             draw_labels=False, linewidth=0.25, linestyle='--')\n",
    "\n",
    "# set the map limits\n",
    "ax.set_extent([domain[0]+360.0, domain[1]+360.0, domain[2], domain[3]], crs=ccrs.PlateCarree())\n",
    "\n",
    "plt.show()"
   ]
  }
 ],
 "metadata": {
  "kernelspec": {
   "display_name": "Python 3.8.13 ('ICvenv')",
   "language": "python",
   "name": "python3"
  },
  "language_info": {
   "codemirror_mode": {
    "name": "ipython",
    "version": 3
   },
   "file_extension": ".py",
   "mimetype": "text/x-python",
   "name": "python",
   "nbconvert_exporter": "python",
   "pygments_lexer": "ipython3",
   "version": "3.8.13"
  },
  "orig_nbformat": 4,
  "vscode": {
   "interpreter": {
    "hash": "867bf71f7fa501fc9d8bb6964ecef25a6e21c6afc587b4b36ee0ac226e63b64b"
   }
  }
 },
 "nbformat": 4,
 "nbformat_minor": 2
}
