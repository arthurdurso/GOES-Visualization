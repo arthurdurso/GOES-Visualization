{
 "cells": [
  {
   "cell_type": "code",
   "execution_count": 1,
   "metadata": {},
   "outputs": [],
   "source": [
    "import GOES\n",
    "import os\n",
    "import matplotlib.pyplot as plt\n",
    "import numpy as np\n",
    "from datetime import datetime               # Basic Dates and time types\n",
    "from datetime import timedelta              # Substract hours from datetime"
   ]
  },
  {
   "cell_type": "code",
   "execution_count": 2,
   "metadata": {},
   "outputs": [],
   "source": [
    "# Infos da Regiao\n",
    "\n",
    "# Select Files\n",
    "dt = 'OR_ABI-L2-TPWF-M6_G16_s2022046'\n",
    "\n",
    "# Path to save\n",
    "mypath= 'C:\\\\Users\\\\Durso\\\\Documentos\\\\_Iniciacao Cientifica\\\\NC Files\\\\_Plots\\\\Petropolis\\\\'"
   ]
  },
  {
   "cell_type": "code",
   "execution_count": 3,
   "metadata": {},
   "outputs": [],
   "source": [
    "# Path File\n",
    "path = 'C:\\\\Users\\\\Durso\\\\Documentos\\\\_Iniciacao Cientifica\\\\NC Files\\\\Total Precipitable Water\\\\'\n",
    "\n",
    "# Get Files\n",
    "oldfl = os.listdir(path)\n",
    "\n",
    "# Specific Files\n",
    "fl = [x for x in oldfl if x.startswith(dt)]"
   ]
  },
  {
   "cell_type": "code",
   "execution_count": 4,
   "metadata": {},
   "outputs": [
    {
     "name": "stdout",
     "output_type": "stream",
     "text": [
      "38.22222\n",
      "2022-02-15 13:00:20.900000\n",
      "nan\n",
      "2022-02-15 13:30:20.900000\n",
      "nan\n",
      "2022-02-15 14:00:20.900000\n",
      "nan\n",
      "2022-02-15 14:30:20.700000\n",
      "nan\n",
      "2022-02-15 15:00:20.700000\n",
      "nan\n",
      "2022-02-15 15:10:20.700000\n",
      "nan\n",
      "2022-02-15 15:20:20.700000\n",
      "nan\n",
      "2022-02-15 15:30:20.700000\n",
      "nan\n",
      "2022-02-15 15:40:20.700000\n",
      "nan\n",
      "2022-02-15 15:50:20.700000\n",
      "nan\n",
      "2022-02-15 16:00:20.700000\n",
      "nan\n",
      "2022-02-15 16:10:20.700000\n",
      "nan\n",
      "2022-02-15 16:20:20.700000\n",
      "nan\n",
      "2022-02-15 16:30:20.700000\n",
      "nan\n",
      "2022-02-15 16:40:20.700000\n",
      "nan\n",
      "2022-02-15 16:50:20.700000\n",
      "nan\n",
      "2022-02-15 17:00:20.700000\n",
      "nan\n",
      "2022-02-15 17:10:20.700000\n",
      "nan\n",
      "2022-02-15 17:20:20.700000\n",
      "nan\n",
      "2022-02-15 17:30:20.700000\n",
      "nan\n",
      "2022-02-15 17:40:20.700000\n",
      "nan\n",
      "2022-02-15 17:50:20.700000\n",
      "nan\n",
      "2022-02-15 18:00:20.700000\n",
      "nan\n",
      "2022-02-15 18:10:20.700000\n",
      "nan\n",
      "2022-02-15 18:20:20.700000\n",
      "nan\n",
      "2022-02-15 18:30:20.700000\n",
      "nan\n",
      "2022-02-15 18:40:20.700000\n",
      "nan\n",
      "2022-02-15 18:50:20.700000\n",
      "nan\n",
      "2022-02-15 19:00:20.700000\n",
      "nan\n",
      "2022-02-15 19:30:20.700000\n",
      "nan\n",
      "2022-02-15 20:00:20.700000\n"
     ]
    }
   ],
   "source": [
    "# Create Lists\n",
    "dt = []\n",
    "tm = []\n",
    "\n",
    "for i in fl:\n",
    "    \n",
    "    ds = GOES.open_dataset(path+i)\n",
    "    \n",
    "    TEMP, LonCen, LatCen = ds.image('TPW', lonlat='center')\n",
    "\n",
    "    x, y = GOES.find_pixel_of_coordinate(LonCen, LatCen, -43.172917, -22.513833)\n",
    "\n",
    "    print(TEMP.data[y,x])\n",
    "    tmp_dt = TEMP.data[y,x] - 273.15\n",
    "\n",
    "    dt.append(tmp_dt)\n",
    "\n",
    "    time = ds.attribute('time_coverage_start')\n",
    "    # Given timestamp in string\n",
    "    time_str =  ds.attribute('time_coverage_start')\n",
    "    date_format_str = '%Y-%m-%dT%H:%M:%S.%fZ'\n",
    "\n",
    "    # create datetime object from timestamp string\n",
    "    given_time = datetime.strptime(time_str, date_format_str)\n",
    "\n",
    "    # Subtract 2 hours from datetime object\n",
    "    final_time = given_time - timedelta(hours=3)\n",
    "\n",
    "    print(final_time)\n",
    "    tmp_tm = final_time.strftime('%H:%M')\n",
    "\n",
    "    tm.append(tmp_tm)"
   ]
  },
  {
   "cell_type": "code",
   "execution_count": 5,
   "metadata": {},
   "outputs": [],
   "source": [
    "#Set xticks\n",
    "if len(dt) % 10 == 0:\n",
    "    jmp = len(dt) // 10\n",
    "else:\n",
    "    jmp = (len(dt) // 10) + 1\n",
    "\n",
    "# An \"interface\" to matplotlib.axes.Axes.hist() method\n",
    "fig, ax = plt.subplots()\n",
    "ax.plot(tm, dt, color='#0504aa')\n",
    "plt.grid(axis='y', alpha=0.75)\n",
    "ax.set_xticks(ax.get_xticks()[::jmp])\n",
    "\n",
    "plt.xlabel('Time', fontsize=8)\n",
    "plt.ylabel('Precipitable Water (mm)', fontsize=8)\n",
    "\n",
    "plt.title('GOES-16 Total Precipitable Water', fontweight='bold', fontsize=9, loc='left')\n",
    "plt.title('Pos = (-43.172917, -22.513833)\\n{}'.format(final_time.strftime('%d %B %Y')),\n",
    "            fontsize=9, loc='right')\n",
    "\n",
    "plt.savefig(fname = mypath + 'G16_TPWF_PLOT_' + final_time.strftime('%d_%B_%Y') + '.jpg', pad_inches=0, dpi=300)\n",
    "\n",
    "plt.close()"
   ]
  }
 ],
 "metadata": {
  "kernelspec": {
   "display_name": "ICvenv",
   "language": "python",
   "name": "python3"
  },
  "language_info": {
   "codemirror_mode": {
    "name": "ipython",
    "version": 3
   },
   "file_extension": ".py",
   "mimetype": "text/x-python",
   "name": "python",
   "nbconvert_exporter": "python",
   "pygments_lexer": "ipython3",
   "version": "3.8.13"
  },
  "orig_nbformat": 4,
  "vscode": {
   "interpreter": {
    "hash": "867bf71f7fa501fc9d8bb6964ecef25a6e21c6afc587b4b36ee0ac226e63b64b"
   }
  }
 },
 "nbformat": 4,
 "nbformat_minor": 2
}
